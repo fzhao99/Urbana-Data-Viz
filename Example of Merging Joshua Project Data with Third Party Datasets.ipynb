{
 "cells": [
  {
   "cell_type": "markdown",
   "metadata": {},
   "source": [
    "# Example of Merging Joshua Project Data with Third Party Datasets\n",
    "_Hack4Missions 2018_\n",
    "\n",
    "This example uses python, for maximum flexibility. Another option is to use OpenRefine, since this dataset doesn't include sensitive personal information. http://openrefine.org/\n",
    "\n",
    "#### Notes about this data\n",
    "* Remember: **countries and people groups are political categories**, and not every society, government, or organization recognizes the same list of countries. \n",
    "* People Group Dataset (country level):\n",
    "    * Frontier Ventures: [More about making and maintaining a people group list](https://joshuaproject.net/resources/articles/making_a_people_group_list)\n",
    "    * Frontier Ventures: [Some of the data sources used to create the people group dataset](https://joshuaproject.net/help/data_sources)\n",
    "    * Note: The Unreached People Group dataset has a hierarchical relationship with country. People from those groups may be a single community across a national border, but in this dataset, they will have one row for each country where they are present. \n",
    "* DARA International Climate Vulnerability Monitor Data (country level)\n",
    "    * More [information about the dataset and how it was coded and collected](https://daraint.org/climate-vulnerability-monitor/climate-vulnerability-monitor-2012/report/). [Full 2012 Report](http://www.daraint.org/wp-content/uploads/2012/10/CVM2-Low.pdf)\n",
    "    * [Methodology and Data Tables](http://daraint.org/wp-content/uploads/2012/09/METHODOLOGY-AND-DATA.pdf)"
   ]
  },
  {
   "cell_type": "markdown",
   "metadata": {},
   "source": [
    "### Load Libraries"
   ]
  },
  {
   "cell_type": "code",
   "execution_count": 173,
   "metadata": {},
   "outputs": [],
   "source": [
    "import xlrd, sys, os\n",
    "from collections import defaultdict,Counter\n",
    "import pandas as pd\n",
    "import seaborn as sns\n",
    "import matplotlib.pyplot as plt\n",
    "import math"
   ]
  },
  {
   "cell_type": "markdown",
   "metadata": {},
   "source": [
    "## Step One: Load the Joshua Project Data"
   ]
  },
  {
   "cell_type": "code",
   "execution_count": 8,
   "metadata": {},
   "outputs": [],
   "source": [
    "peoplegroup_data_filename = \"tblPeopleGroups-JoshuaProject-20181203.xlsx\"\n",
    "\n",
    "peoplegroup_wb  = xlrd.open_workbook(os.path.join(\"../data\", \"frontierventures\", peoplegroup_data_filename))\n",
    "peoplegroup_sheet = peoplegroup_wb.sheet_by_index(0)"
   ]
  },
  {
   "cell_type": "markdown",
   "metadata": {},
   "source": [
    "### Create Peoplegroup Dict"
   ]
  },
  {
   "cell_type": "code",
   "execution_count": 33,
   "metadata": {},
   "outputs": [],
   "source": [
    "colnames = peoplegroup_sheet.row_values(0)\n",
    "country_name_index = 2\n",
    "people_group_countries = defaultdict(list)\n",
    "for i in range(1,peoplegroup_sheet.nrows - 1):\n",
    "    peoplegroup_dict = {}\n",
    "    peoplegroup_row =  peoplegroup_sheet.row_values(i)\n",
    "    ## assumption: there is an equal number of colnames\n",
    "    ## to the number of columns and that all colnames are unique\n",
    "    for k in range(0, len(colnames)-1):\n",
    "        peoplegroup_dict[colnames[k]] = peoplegroup_row[k]\n",
    "    country_name = peoplegroup_dict['Country']\n",
    "    people_group_countries[country_name].append(peoplegroup_dict)"
   ]
  },
  {
   "cell_type": "markdown",
   "metadata": {},
   "source": [
    "## Step Two: Load Climate Vulnerability Monitor Data"
   ]
  },
  {
   "cell_type": "code",
   "execution_count": 38,
   "metadata": {},
   "outputs": [],
   "source": [
    "climate_vuln_data_filename = \"Climate Vulnerable Monitor Data.xlsx\"\n",
    "\n",
    "climate_vuln_wb  = xlrd.open_workbook(os.path.join(\"../data\", \"thirdparty\", climate_vuln_data_filename))\n",
    "climate_vuln_sheet = climate_vuln_wb.sheet_by_index(0)"
   ]
  },
  {
   "cell_type": "markdown",
   "metadata": {},
   "source": [
    "### Create Climate Vulnerability Dict\n",
    "The column names are in row 4, and data rows start on row 5.\n",
    "\n",
    "This datasethas one row per country, so we record it as a dict with country as key (used for merge)"
   ]
  },
  {
   "cell_type": "code",
   "execution_count": 109,
   "metadata": {},
   "outputs": [],
   "source": [
    "climate_vuln_colnames = climate_vuln_sheet.row_values(4)\n",
    "country_name_index = 0\n",
    "climate_vuln_countries = {}\n",
    "for i in range(5,climate_vuln_sheet.nrows):\n",
    "    climate_vuln_dict = {}\n",
    "    climate_vuln_row =  climate_vuln_sheet.row_values(i)\n",
    "    ## assumption: there is an equal number of colnames\n",
    "    ## to the number of columns and that all colnames are unique\n",
    "    for k in range(0, len(climate_vuln_colnames)):\n",
    "        climate_vuln_dict[climate_vuln_colnames[k]] = climate_vuln_row[k]\n",
    "    country_name = climate_vuln_dict['Country']\n",
    "    climate_vuln_countries[country_name] = climate_vuln_dict"
   ]
  },
  {
   "cell_type": "markdown",
   "metadata": {},
   "source": [
    "### Compare country lists to see if any are missing\n",
    "Many country names appear in the people group dataset that do not have climate vulnerability information.\n",
    "\n",
    "**TODO For Hackathon Team: Clean Some of this Data to Make Merges Where They are Possible** (example:  Bosnia-Herzegovina, South Sudan) and fully document your decisions."
   ]
  },
  {
   "cell_type": "code",
   "execution_count": 111,
   "metadata": {},
   "outputs": [
    {
     "name": "stdout",
     "output_type": "stream",
     "text": [
      "Countries in People Group Dataset not in Climate Vulnerability Dataset:\n",
      "----------------------------------------------------------------------\n",
      "['American Samoa', 'Andorra', 'Anguilla', 'Aruba', 'Bermuda', 'Bosnia-Herzegovina', 'British Indian Ocean Territory', 'British Virgin Islands', 'Cayman Islands', 'China, Hong Kong', 'China, Macau', 'Christmas Island', 'Cocos (Keeling) Islands', 'Congo, Democratic Republic of', 'Congo, Republic of the', 'Cook Islands', \"Côte d'Ivoire\", 'Curacao', 'Czechia', 'East Timor', 'Falkland Islands', 'Faroe Islands', 'French Guiana', 'French Polynesia', 'Gibraltar', 'Greenland', 'Guadeloupe', 'Guam', 'Isle of Man', 'Kiribati (Gilbert)', 'Korea, North', 'Korea, South', 'Kosovo', 'Liechtenstein', 'Martinique', 'Mayotte', 'Micronesia, Federated States', 'Monaco', 'Montenegro', 'Montserrat', 'Myanmar (Burma)', 'Nauru', 'New Caledonia', 'Niue', 'Norfolk Island', 'Northern Mariana Islands', 'Pitcairn Islands', 'Puerto Rico', 'Reunion', 'Saint Helena', 'Saint Kitts and Nevis', 'Saint Pierre and Miquelon', 'San Marino', 'São Tomé and Príncipe', 'Serbia', 'Sint Maarten', 'South Sudan', 'St Vincent and Grenadines', 'Sudan', 'Svalbard', 'Taiwan', 'Tokelau', 'Turks and Caicos Islands', 'Vatican City', 'Virgin Islands (U.S.)', 'Wallis and Futuna Islands', 'West Bank / Gaza', 'Western Sahara']\n",
      "\n",
      "----------------------------------------------------------------------\n",
      "\n",
      "Countries in Climate Vulnerability Dataset not in People Group Dataset:\n",
      "----------------------------------------------------------------------\n",
      "['Bosnia and Herzegovina', 'Congo', \"Cote d'Ivoire\", 'Czech Republic', 'DR Congo', 'Kiribati', 'Micronesia', 'Myanmar', 'North Korea', 'Saint Vincent', 'Sao Tome and Principe', 'South Korea', 'Sudan/South Sudan', 'Timor-Leste']\n",
      "\n",
      "----------------------------------------------------------------------\n"
     ]
    }
   ],
   "source": [
    "print(\"Countries in People Group Dataset not in Climate Vulnerability Dataset:\")\n",
    "print(\"----------------------------------------------------------------------\")\n",
    "print([x for x in people_group_countries.keys() if x not in climate_vuln_countries.keys()])\n",
    "print(\"\")\n",
    "print(\"----------------------------------------------------------------------\")\n",
    "print(\"\")\n",
    "\n",
    "print(\"Countries in Climate Vulnerability Dataset not in People Group Dataset:\")\n",
    "print(\"----------------------------------------------------------------------\")\n",
    "print([x for x in climate_vuln_countries.keys() if x not in people_group_countries.keys()])\n",
    "print(\"\")\n",
    "print(\"----------------------------------------------------------------------\")"
   ]
  },
  {
   "cell_type": "markdown",
   "metadata": {},
   "source": [
    "## Step Three: Merge Climate Data With People Group  Data\n",
    "In this dataset, we add columns with climate vulnerability data for every people group, introducing None as a value where there is no join. We add the prefix \"cv_\" to all climate vulnerability column names."
   ]
  },
  {
   "cell_type": "code",
   "execution_count": 124,
   "metadata": {},
   "outputs": [
    {
     "name": "stdout",
     "output_type": "stream",
     "text": [
      "Merged 15567 Rows.\n",
      "Missing climate vulnerability data for 68 out of 170 countries,\n",
      "adding up to missing climate vulnerability data for 1436 people groups\n"
     ]
    }
   ],
   "source": [
    "pg_missing_climate_vuln = 0\n",
    "country_missing_climate_vuln = 0\n",
    "merged_pg_rows = 0\n",
    "#for each people group country\n",
    "for pg_country, people_groups in people_group_countries.items():\n",
    "    country_climate_vuln = {}\n",
    "    # if the people group country is in the climate vulnerability dataset  \n",
    "    # add the climate vulnerability columns to each people group in that country\n",
    "    if(pg_country in climate_vuln_countries.keys()):\n",
    "        climate_vuln_country = climate_vuln_countries[pg_country]\n",
    "        for colname in climate_vuln_colnames:\n",
    "            country_climate_vuln[\"cv_\" + colname] =  climate_vuln_country[colname]\n",
    "        merged_pg_rows += len(people_groups)      \n",
    "    # if the people group country is not in the climate vulnerability dataset\n",
    "    # add None to each column\n",
    "    else:\n",
    "        for colname in climate_vuln_colnames:\n",
    "            country_climate_vuln[\"cv_\" + colname] = None\n",
    "        pg_missing_climate_vuln += len(people_groups)\n",
    "        country_missing_climate_vuln +=  1\n",
    "    \n",
    "    for people_group in people_groups:\n",
    "        people_group.update(country_climate_vuln)\n",
    "\n",
    "print(\"Merged {0} Rows.\\nMissing climate vulnerability data for {1} out of {2} countries,\\nadding up to missing climate vulnerability data for {3} people groups\".format(\n",
    "    merged_pg_rows,\n",
    "    country_missing_climate_vuln,\n",
    "    len(people_group_countries) - country_missing_climate_vuln,\n",
    "    pg_missing_climate_vuln\n",
    "))"
   ]
  },
  {
   "cell_type": "markdown",
   "metadata": {},
   "source": [
    "## Step Four: Create a People Group Dataset (Pandas)"
   ]
  },
  {
   "cell_type": "code",
   "execution_count": 119,
   "metadata": {},
   "outputs": [],
   "source": [
    "people_group_rows = []\n",
    "for people_groups in people_group_countries.values():\n",
    "    for people_group in people_groups:\n",
    "        people_group_rows.append(people_group)"
   ]
  },
  {
   "cell_type": "markdown",
   "metadata": {},
   "source": [
    "### Plot Something\n",
    "**TODO: Do checks on data integrity here***"
   ]
  },
  {
   "cell_type": "code",
   "execution_count": 179,
   "metadata": {},
   "outputs": [],
   "source": [
    "pgr_df = pd.DataFrame(people_group_rows)\n",
    "pgr_df\n",
    "#pgr_df.columns.values\n",
    "pgr_df[\"PercentEvangelical\"] = pd.to_numeric(pgr_df[\"PercentEvangelical\"])"
   ]
  },
  {
   "cell_type": "code",
   "execution_count": 183,
   "metadata": {},
   "outputs": [
    {
     "data": {
      "image/png": "[encoded data removed]",
      "text/plain": [
       "<Figure size 1008x432 with 1 Axes>"
      ]
     },
     "metadata": {
      "needs_background": "light"
     },
     "output_type": "display_data"
    }
   ],
   "source": [
    "## Seaborn examples:  https://seaborn.pydata.org/examples/grouped_boxplot.html\n",
    "# plt.figure(figsize=(14,6))\n",
    "# plt.title(\"Unreached and % Evangelical\")\n",
    "# sns.boxplot(x=\"Unreached\", y=\"PercentEvangelical\",\n",
    "#             hue=\"PrimaryReligion\",\n",
    "#             palette=sns.color_palette(),\n",
    "#             data=pgr_df)\n",
    "# plt.show()\n",
    "\n",
    "\n",
    "plt.figure(figsize=(14,6))\n",
    "plt.title(\"Climate Risk and % Evangelical\")\n",
    "sns.violinplot(x=\"cv_Climate_Total_2030\", y=\"PercentEvangelical\",\n",
    "               order=[\"LOW\", \"MODERATE\", \"HIGH\", \"ACUTE\", \"SEVERE\"],\n",
    "            palette=sns.color_palette(),\n",
    "            data=pgr_df)\n",
    "plt.show()\n"
   ]
  },
  {
   "cell_type": "code",
   "execution_count": 155,
   "metadata": {},
   "outputs": [
    {
     "data": {
      "text/plain": [
       "array(['Country', 'ISO3', 'JPScale', 'Latitude', 'Longitude',\n",
       "       'PeopNameAcrossCountries', 'PeopNameInCountry', 'PeopleCluster',\n",
       "       'PeopleID1', 'PeopleID2', 'PeopleID3', 'PercentAdherents',\n",
       "       'PercentEvangelical', 'Population', 'PrimaryLanguageName',\n",
       "       'PrimaryReligion', 'RLG3', 'ROG3', 'ROL3', 'Unreached',\n",
       "       'cv_Carbon_Total_2010', 'cv_Carbon_Total_2030',\n",
       "       'cv_Climate_Total_2010', 'cv_Climate_Total_2030',\n",
       "       'cv_Cost_Carbon_total_2010 (US$ Million PPP)',\n",
       "       'cv_Cost_Carbon_total_2030 (US$ Million PPP)',\n",
       "       'cv_Cost_Climate_total_2010  (US$ Million PPP)',\n",
       "       'cv_Cost_Climate_total_2030 (US$ Million PPP)', 'cv_Country',\n",
       "       'cv_Mortality_Carbon_total_2010 (Number of People)',\n",
       "       'cv_Mortality_Carbon_total_2030 (Number of People)',\n",
       "       'cv_Mortality_Climate_total_2010 (Number of People)',\n",
       "       'cv_Mortality_Climate_total_2030 (Number of People)'], dtype=object)"
      ]
     },
     "execution_count": 155,
     "metadata": {},
     "output_type": "execute_result"
    }
   ],
   "source": [
    "pgr_df.columns.values"
   ]
  },
  {
   "cell_type": "markdown",
   "metadata": {},
   "source": [
    "### Output merged data to a file"
   ]
  },
  {
   "cell_type": "code",
   "execution_count": 184,
   "metadata": {},
   "outputs": [],
   "source": [
    "pgr_df.to_csv(\"../outputs/data/merged_people_groups_20181203-climate_vuln.csv\")"
   ]
  },
  {
   "cell_type": "markdown",
   "metadata": {},
   "source": [
    "## LICENSE\n",
    "Copyright 2018 J. Nathan Matias\n",
    "\n",
    "Permission is hereby granted, free of charge, to any person obtaining a copy of this software and associated documentation files (the \"Software\"), to deal in the Software without restriction, including without limitation the rights to use, copy, modify, merge, publish, distribute, sublicense, and/or sell copies of the Software, and to permit persons to whom the Software is furnished to do so, subject to the following conditions:\n",
    "\n",
    "The above copyright notice and this permission notice shall be included in all copies or substantial portions of the Software.\n",
    "\n",
    "THE SOFTWARE IS PROVIDED \"AS IS\", WITHOUT WARRANTY OF ANY KIND, EXPRESS OR IMPLIED, INCLUDING BUT NOT LIMITED TO THE WARRANTIES OF MERCHANTABILITY, FITNESS FOR A PARTICULAR PURPOSE AND NONINFRINGEMENT. IN NO EVENT SHALL THE AUTHORS OR COPYRIGHT HOLDERS BE LIABLE FOR ANY CLAIM, DAMAGES OR OTHER LIABILITY, WHETHER IN AN ACTION OF CONTRACT, TORT OR OTHERWISE, ARISING FROM, OUT OF OR IN CONNECTION WITH THE SOFTWARE OR THE USE OR OTHER DEALINGS IN THE SOFTWARE."
   ]
  },
  {
   "cell_type": "code",
   "execution_count": null,
   "metadata": {},
   "outputs": [],
   "source": []
  }
 ],
 "metadata": {
  "kernelspec": {
   "display_name": "Python 3",
   "language": "python",
   "name": "python3"
  },
  "language_info": {
   "codemirror_mode": {
    "name": "ipython",
    "version": 3
   },
   "file_extension": ".py",
   "mimetype": "text/x-python",
   "name": "python",
   "nbconvert_exporter": "python",
   "pygments_lexer": "ipython3",
   "version": "3.6.5"
  }
 },
 "nbformat": 4,
 "nbformat_minor": 2
}
